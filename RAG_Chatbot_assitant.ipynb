{
  "nbformat": 4,
  "nbformat_minor": 0,
  "metadata": {
    "colab": {
      "provenance": [],
      "authorship_tag": "ABX9TyNDT+hG4+dQ2Txjm1IdI49Q",
      "include_colab_link": true
    },
    "kernelspec": {
      "name": "python3",
      "display_name": "Python 3"
    },
    "language_info": {
      "name": "python"
    }
  },
  "cells": [
    {
      "cell_type": "markdown",
      "metadata": {
        "id": "view-in-github",
        "colab_type": "text"
      },
      "source": [
        "<a href=\"https://colab.research.google.com/github/aaronbryden/MLEnd-hums-and-whistles/blob/main/RAG_Chatbot_assitant.ipynb\" target=\"_parent\"><img src=\"https://colab.research.google.com/assets/colab-badge.svg\" alt=\"Open In Colab\"/></a>"
      ]
    },
    {
      "cell_type": "markdown",
      "source": [
        "### Setting up the environment"
      ],
      "metadata": {
        "id": "dxgmvXlrdEi6"
      }
    },
    {
      "cell_type": "code",
      "execution_count": null,
      "metadata": {
        "id": "-emp-ceQocau"
      },
      "outputs": [],
      "source": [
        "pip install cohere hnswlib unstructured -q"
      ]
    },
    {
      "cell_type": "code",
      "source": [
        "import cohere\n",
        "import os\n",
        "import hnswlib\n",
        "import json\n",
        "import uuid\n",
        "from typing import List, Dict\n",
        "from unstructured.partition.html import partition_html\n",
        "from unstructured.chunking.title import chunk_by_title"
      ],
      "metadata": {
        "id": "DK2HADEtpAce"
      },
      "execution_count": null,
      "outputs": []
    },
    {
      "cell_type": "code",
      "source": [
        "from google.colab import userdata\n",
        "api_key = userdata.get('COHERE_API_KEY')"
      ],
      "metadata": {
        "id": "W7uZZAfHw-N2"
      },
      "execution_count": null,
      "outputs": []
    },
    {
      "cell_type": "code",
      "source": [
        "co = cohere.Client(api_key)"
      ],
      "metadata": {
        "id": "gBSQOdwLxAuY"
      },
      "execution_count": null,
      "outputs": []
    },
    {
      "cell_type": "code",
      "source": [
        "#@title Enable text wrapping in Google colab\n",
        "\n",
        "from IPython.display import HTML, display\n",
        "\n",
        "def set_css():\n",
        "  display(HTML('''\n",
        "  <style>\n",
        "    pre {\n",
        "        white-space: pre-wrap;\n",
        "    }\n",
        "  </style>\n",
        "  '''))\n",
        "get_ipython().events.register('pre_run_cell', set_css)"
      ],
      "metadata": {
        "cellView": "form",
        "id": "PP1jXom66alC"
      },
      "execution_count": null,
      "outputs": []
    },
    {
      "cell_type": "markdown",
      "metadata": {
        "id": "2l8_pVRf6JSS"
      },
      "source": [
        "### Document component"
      ]
    },
    {
      "cell_type": "code",
      "execution_count": null,
      "metadata": {
        "id": "J9VWjR4S6JSR",
        "outputId": "0b4090e6-c506-4258-f61e-14d25b479680",
        "colab": {
          "base_uri": "https://localhost:8080/",
          "height": 17
        }
      },
      "outputs": [
        {
          "output_type": "display_data",
          "data": {
            "text/plain": [
              "<IPython.core.display.HTML object>"
            ],
            "text/html": [
              "\n",
              "  <style>\n",
              "    pre {\n",
              "        white-space: pre-wrap;\n",
              "    }\n",
              "  </style>\n",
              "  "
            ]
          },
          "metadata": {}
        }
      ],
      "source": [
        "class Documents:\n",
        "\n",
        "    def __init__(self, sources: List[Dict[str, str]]):\n",
        "        self.sources = sources\n",
        "        self.docs = []\n",
        "        self.docs_embs = []\n",
        "        self.retrieve_top_k = 10\n",
        "        self.rerank_top_k = 3\n",
        "        self.load()\n",
        "        self.embed()\n",
        "        self.index()\n",
        "\n",
        "    def load(self) -> None:\n",
        "        \"\"\"\n",
        "        Loads the documents from the sources and chunks the HTML content.\n",
        "        \"\"\"\n",
        "        print(\"Loading documents...\")\n",
        "\n",
        "        for source in self.sources:\n",
        "            elements = partition_html(url=source[\"url\"])\n",
        "            chunks = chunk_by_title(elements)\n",
        "            for chunk in chunks:\n",
        "                self.docs.append(\n",
        "                    {\n",
        "                        \"title\": source[\"title\"],\n",
        "                        \"text\": str(chunk),\n",
        "                        \"url\": source[\"url\"],\n",
        "                    }\n",
        "                )\n",
        "\n",
        "    def embed(self) -> None:\n",
        "        \"\"\"\n",
        "        Embeds the documents using the Cohere API.\n",
        "        \"\"\"\n",
        "        print(\"Embedding documents...\")\n",
        "\n",
        "        batch_size = 90\n",
        "        self.docs_len = len(self.docs)\n",
        "\n",
        "        for i in range(0, self.docs_len, batch_size):\n",
        "            batch = self.docs[i : min(i + batch_size, self.docs_len)]\n",
        "            texts = [item[\"text\"] for item in batch]\n",
        "            docs_embs_batch = co.embed(\n",
        "                texts=texts, model=\"embed-english-v3.0\", input_type=\"search_document\"\n",
        "            ).embeddings\n",
        "            self.docs_embs.extend(docs_embs_batch)\n",
        "\n",
        "    def index(self) -> None:\n",
        "        \"\"\"\n",
        "        Indexes the documents for efficient retrieval.\n",
        "        \"\"\"\n",
        "        print(\"Indexing documents...\")\n",
        "\n",
        "        self.idx = hnswlib.Index(space=\"ip\", dim=1024)\n",
        "        self.idx.init_index(max_elements=self.docs_len, ef_construction=512, M=64)\n",
        "        self.idx.add_items(self.docs_embs, list(range(len(self.docs_embs))))\n",
        "\n",
        "        print(f\"Indexing complete with {self.idx.get_current_count()} documents.\")\n",
        "\n",
        "    def retrieve(self, query: str) -> List[Dict[str, str]]:\n",
        "        \"\"\"\n",
        "        Retrieves documents based on the given query.\n",
        "\n",
        "        Parameters:\n",
        "        query (str): The query to retrieve documents for.\n",
        "\n",
        "        Returns:\n",
        "        List[Dict[str, str]]: A list of dictionaries representing the retrieved documents, with 'title', 'text', and 'url' keys.\n",
        "        \"\"\"\n",
        "        docs_retrieved = []\n",
        "        query_emb = co.embed(\n",
        "            texts=[query], model=\"embed-english-v3.0\", input_type=\"search_query\"\n",
        "        ).embeddings\n",
        "\n",
        "        doc_ids = self.idx.knn_query(query_emb, k=self.retrieve_top_k)[0][0]\n",
        "\n",
        "        docs_to_rerank = []\n",
        "        for doc_id in doc_ids:\n",
        "            docs_to_rerank.append(self.docs[doc_id][\"text\"])\n",
        "\n",
        "        rerank_results = co.rerank(\n",
        "            query=query,\n",
        "            documents=docs_to_rerank,\n",
        "            top_n=self.rerank_top_k,\n",
        "            model=\"rerank-english-v2.0\",\n",
        "        )\n",
        "\n",
        "        doc_ids_reranked = []\n",
        "        for result in rerank_results:\n",
        "            doc_ids_reranked.append(doc_ids[result.index])\n",
        "\n",
        "        for doc_id in doc_ids_reranked:\n",
        "            docs_retrieved.append(\n",
        "                {\n",
        "                    \"title\": self.docs[doc_id][\"title\"],\n",
        "                    \"text\": self.docs[doc_id][\"text\"],\n",
        "                    \"url\": self.docs[doc_id][\"url\"],\n",
        "                }\n",
        "            )\n",
        "\n",
        "        return docs_retrieved"
      ]
    },
    {
      "cell_type": "markdown",
      "metadata": {
        "id": "aTRR4_B5DSV_"
      },
      "source": [
        "### Chatbot component"
      ]
    },
    {
      "cell_type": "code",
      "source": [
        "class Chatbot:\n",
        "    \"\"\"\n",
        "    A class representing a chatbot.\n",
        "\n",
        "    Parameters:\n",
        "    docs (Documents): An instance of the Documents class representing the collection of documents.\n",
        "\n",
        "    Attributes:\n",
        "    conversation_id (str): The unique ID for the conversation.\n",
        "    docs (Documents): An instance of the Documents class representing the collection of documents.\n",
        "\n",
        "    Methods:\n",
        "    generate_response(message): Generates a response to the user's message.\n",
        "    retrieve_docs(response): Retrieves documents based on the search queries in the response.\n",
        "\n",
        "    \"\"\"\n",
        "\n",
        "    def __init__(self, docs: Documents):\n",
        "        self.docs = docs\n",
        "        self.conversation_id = str(uuid.uuid4())\n",
        "\n",
        "    def generate_response(self, message: str):\n",
        "        \"\"\"\n",
        "        Generates a response to the user's message.\n",
        "\n",
        "        Parameters:\n",
        "        message (str): The user's message.\n",
        "\n",
        "        Yields:\n",
        "        Event: A response event generated by the chatbot.\n",
        "\n",
        "        Returns:\n",
        "        List[Dict[str, str]]: A list of dictionaries representing the retrieved documents.\n",
        "\n",
        "        \"\"\"\n",
        "        # Generate search queries (if any)\n",
        "        response = co.chat(message=message, search_queries_only=True)\n",
        "\n",
        "        # If there are search queries, retrieve documents and respond\n",
        "        if response.search_queries:\n",
        "            print(\"Retrieving information...\")\n",
        "\n",
        "            documents = self.retrieve_docs(response)\n",
        "\n",
        "            response = co.chat(\n",
        "                message=message,\n",
        "                documents=documents,\n",
        "                conversation_id=self.conversation_id,\n",
        "                stream=True,\n",
        "            )\n",
        "            for event in response:\n",
        "                yield event\n",
        "\n",
        "        # If there is no search query, directly respond\n",
        "        else:\n",
        "            response = co.chat(\n",
        "                message=message,\n",
        "                conversation_id=self.conversation_id,\n",
        "                stream=True\n",
        "            )\n",
        "            for event in response:\n",
        "                yield event\n",
        "\n",
        "    def retrieve_docs(self, response) -> List[Dict[str, str]]:\n",
        "        \"\"\"\n",
        "        Retrieves documents based on the search queries in the response.\n",
        "\n",
        "        Parameters:\n",
        "        response: The response object containing search queries.\n",
        "\n",
        "        Returns:\n",
        "        List[Dict[str, str]]: A list of dictionaries representing the retrieved documents.\n",
        "\n",
        "        \"\"\"\n",
        "        # Get the query(s)\n",
        "        queries = []\n",
        "        for search_query in response.search_queries:\n",
        "            queries.append(search_query[\"text\"])\n",
        "\n",
        "        # Retrieve documents for each query\n",
        "        retrieved_docs = []\n",
        "        for query in queries:\n",
        "            retrieved_docs.extend(self.docs.retrieve(query))\n",
        "\n",
        "        # # Uncomment this code block to display the chatbot's retrieved documents\n",
        "        # print(\"DOCUMENTS RETRIEVED:\")\n",
        "        # for idx, doc in enumerate(retrieved_docs):\n",
        "        #     print(f\"doc_{idx}: {doc}\")\n",
        "        # print(\"\\n\")\n",
        "\n",
        "        return retrieved_docs"
      ],
      "metadata": {
        "colab": {
          "base_uri": "https://localhost:8080/",
          "height": 17
        },
        "id": "pgir8BcrDUEM",
        "outputId": "a65257e0-f0c2-4ffa-af91-a2a23ce82f3f"
      },
      "execution_count": null,
      "outputs": [
        {
          "output_type": "display_data",
          "data": {
            "text/plain": [
              "<IPython.core.display.HTML object>"
            ],
            "text/html": [
              "\n",
              "  <style>\n",
              "    pre {\n",
              "        white-space: pre-wrap;\n",
              "    }\n",
              "  </style>\n",
              "  "
            ]
          },
          "metadata": {}
        }
      ]
    },
    {
      "cell_type": "markdown",
      "source": [
        "### App component"
      ],
      "metadata": {
        "id": "YfdwN-TADu4B"
      }
    },
    {
      "cell_type": "code",
      "execution_count": null,
      "metadata": {
        "id": "nldxkR8f6JST",
        "outputId": "6b758d76-a064-4e54-82e6-dccddd3d8670",
        "colab": {
          "base_uri": "https://localhost:8080/",
          "height": 17
        }
      },
      "outputs": [
        {
          "output_type": "display_data",
          "data": {
            "text/plain": [
              "<IPython.core.display.HTML object>"
            ],
            "text/html": [
              "\n",
              "  <style>\n",
              "    pre {\n",
              "        white-space: pre-wrap;\n",
              "    }\n",
              "  </style>\n",
              "  "
            ]
          },
          "metadata": {}
        }
      ],
      "source": [
        "class App:\n",
        "    def __init__(self, chatbot: Chatbot):\n",
        "        \"\"\"\n",
        "        Initializes an instance of the App class.\n",
        "\n",
        "        Parameters:\n",
        "        chatbot (Chatbot): An instance of the Chatbot class.\n",
        "\n",
        "        \"\"\"\n",
        "        self.chatbot = chatbot\n",
        "\n",
        "    def run(self):\n",
        "        \"\"\"\n",
        "        Runs the chatbot application.\n",
        "\n",
        "        \"\"\"\n",
        "        while True:\n",
        "            # Get the user message\n",
        "            message = input(\"User: \")\n",
        "\n",
        "            # Typing \"quit\" ends the conversation\n",
        "            if message.lower() == \"quit\":\n",
        "                print(\"Ending chat.\")\n",
        "                break\n",
        "            # else:\n",
        "            #     print(f\"User: {message}\")\n",
        "\n",
        "            # Get the chatbot response\n",
        "            response = self.chatbot.generate_response(message)\n",
        "\n",
        "            # Print the chatbot response\n",
        "            print(\"Chatbot:\")\n",
        "            flag = False\n",
        "            for event in response:\n",
        "                # Text\n",
        "                if event.event_type == \"text-generation\":\n",
        "                    print(event.text, end=\"\")\n",
        "\n",
        "                # Citations\n",
        "                if event.event_type == \"citation-generation\":\n",
        "                    if not flag:\n",
        "                        print(\"\\n\\nCITATIONS:\")\n",
        "                        flag = True\n",
        "                    print(event.citations)\n",
        "\n",
        "            print(f\"\\n{'-'*100}\\n\")"
      ]
    },
    {
      "cell_type": "markdown",
      "metadata": {
        "id": "ZFUu9BN26JST"
      },
      "source": [
        "### Define the documents"
      ]
    },
    {
      "cell_type": "code",
      "source": [
        "# Define the sources for the documents\n",
        "\n",
        "sources = [\n",
        "    {\n",
        "        \"title\": \"Nationwide reduces rates across fixed mortgage range\",\n",
        "        \"url\": \"https://www.nationwidemediacentre.co.uk/news/nationwide-reduces-rates-across-fixed-mortgage-range\"},\n",
        "    {\n",
        "        \"title\": \"Suresh Viswanathan joins Nationwide as Chief Operating Officer\",\n",
        "        \"url\": \"https://www.nationwidemediacentre.co.uk/news/suresh-viswanathan-joins-nationwide-as-chief-operating-officer\"}\n",
        "]"
      ],
      "metadata": {
        "colab": {
          "base_uri": "https://localhost:8080/",
          "height": 17
        },
        "id": "Tp3TatgPFdh5",
        "outputId": "6436a5ab-b1c3-4da8-f24c-fcbc91aa3d7b"
      },
      "execution_count": null,
      "outputs": [
        {
          "output_type": "display_data",
          "data": {
            "text/plain": [
              "<IPython.core.display.HTML object>"
            ],
            "text/html": [
              "\n",
              "  <style>\n",
              "    pre {\n",
              "        white-space: pre-wrap;\n",
              "    }\n",
              "  </style>\n",
              "  "
            ]
          },
          "metadata": {}
        }
      ]
    },
    {
      "cell_type": "markdown",
      "metadata": {
        "id": "mzENA0pH6JSU"
      },
      "source": [
        "### Process the documents"
      ]
    },
    {
      "cell_type": "code",
      "source": [
        "# Create an instance of the Documents class with the given sources\n",
        "documents = Documents(sources)"
      ],
      "metadata": {
        "colab": {
          "base_uri": "https://localhost:8080/",
          "height": 86
        },
        "id": "osQdS4-7Eq1B",
        "outputId": "5e94f00f-704f-4bfd-b3aa-0744f6dc5e06"
      },
      "execution_count": null,
      "outputs": [
        {
          "output_type": "display_data",
          "data": {
            "text/plain": [
              "<IPython.core.display.HTML object>"
            ],
            "text/html": [
              "\n",
              "  <style>\n",
              "    pre {\n",
              "        white-space: pre-wrap;\n",
              "    }\n",
              "  </style>\n",
              "  "
            ]
          },
          "metadata": {}
        },
        {
          "output_type": "stream",
          "name": "stdout",
          "text": [
            "Loading documents...\n",
            "Embedding documents...\n",
            "Indexing documents...\n",
            "Indexing complete with 36 documents.\n"
          ]
        }
      ]
    },
    {
      "cell_type": "markdown",
      "metadata": {
        "id": "H8OlCHEW6JSU"
      },
      "source": [
        "### Run the chatbot"
      ]
    },
    {
      "cell_type": "code",
      "source": [
        "# Create an instance of the Chatbot class with the Documents instance\n",
        "chatbot = Chatbot(documents)\n",
        "\n",
        "# Create an instance of the App class with the Chatbot instance\n",
        "app = App(chatbot)\n",
        "\n",
        "# Run the chatbot\n",
        "app.run()"
      ],
      "metadata": {
        "colab": {
          "base_uri": "https://localhost:8080/",
          "height": 1492
        },
        "id": "pbkCVDTmJcuw",
        "outputId": "993ecb9f-55a7-42cf-d3db-cdc776005d04"
      },
      "execution_count": null,
      "outputs": [
        {
          "output_type": "display_data",
          "data": {
            "text/plain": [
              "<IPython.core.display.HTML object>"
            ],
            "text/html": [
              "\n",
              "  <style>\n",
              "    pre {\n",
              "        white-space: pre-wrap;\n",
              "    }\n",
              "  </style>\n",
              "  "
            ]
          },
          "metadata": {}
        },
        {
          "output_type": "stream",
          "name": "stdout",
          "text": [
            "User: Hi there, could you tell me who Nationwides COO is? I would also like to know the COO's background.\n",
            "Chatbot:\n",
            "Retrieving information...\n",
            "Sure, Nationwide's current Chief Operating Officer (COO) is Suresh Viswanathan. \n",
            "\n",
            "Viswanathan has extensive experience in delivering data-led technology and digital transformation with a focus on improving the customer experience. He has previously been the COO at Barclays UK and more recently at TSB, and has a track record in strengthening operational resilience with a sophisticated understanding of core banking systems and digital technology. \n",
            "\n",
            "When announced as Nationwide's COO, Viswanathan expressed his excitement to be a part of the society, stating that Nationwide occupies a unique position in UK financial services and he looks forward to continuing to invest in branches and developing digital services that are simple, accessible, and innovative, guided by the needs of its members. \n",
            "\n",
            "Would you like to know more about Nationwide's COO or COO roles in general?\n",
            "\n",
            "CITATIONS:\n",
            "[{'start': 60, 'end': 79, 'text': 'Suresh Viswanathan.', 'document_ids': ['doc_0', 'doc_1', 'doc_2', 'doc_3', 'doc_4', 'doc_5']}]\n",
            "[{'start': 98, 'end': 230, 'text': 'extensive experience in delivering data-led technology and digital transformation with a focus on improving the customer experience.', 'document_ids': ['doc_5']}]\n",
            "[{'start': 265, 'end': 276, 'text': 'Barclays UK', 'document_ids': ['doc_5']}]\n",
            "[{'start': 298, 'end': 301, 'text': 'TSB', 'document_ids': ['doc_5']}]\n",
            "[{'start': 313, 'end': 448, 'text': 'track record in strengthening operational resilience with a sophisticated understanding of core banking systems and digital technology.', 'document_ids': ['doc_5']}]\n",
            "[{'start': 513, 'end': 551, 'text': 'excitement to be a part of the society', 'document_ids': ['doc_0', 'doc_3']}]\n",
            "[{'start': 566, 'end': 628, 'text': 'Nationwide occupies a unique position in UK financial services', 'document_ids': ['doc_0', 'doc_3']}]\n",
            "[{'start': 653, 'end': 798, 'text': 'continuing to invest in branches and developing digital services that are simple, accessible, and innovative, guided by the needs of its members.', 'document_ids': ['doc_0', 'doc_3']}]\n",
            "\n",
            "----------------------------------------------------------------------------------------------------\n",
            "\n",
            "User: Awesome. I would like to know who the Director of Home at Nationwide is and their opinion on Nationwide reducing rates across fixed mortgage range.\n",
            "Chatbot:\n",
            "Retrieving information...\n",
            "The current Director of Home at Nationwide Building Society is Henry Jordan. \n",
            "\n",
            "In an interview regarding Nationwide's decision to reduce rates across its fixed mortgage range, Jordan expressed his views by stating that the fixed rate mortgage range rate cuts will ensure the society continues to cement its position as one of the most competitive lenders in the market, with the intention to maintain their support for homeowners, potential homeowners and brokers.\n",
            "\n",
            "Would you like to know more about Henry Jordan or Nationwide's mortgage rates?\n",
            "\n",
            "CITATIONS:\n",
            "[{'start': 32, 'end': 59, 'text': 'Nationwide Building Society', 'document_ids': ['doc_0', 'doc_5']}]\n",
            "[{'start': 63, 'end': 76, 'text': 'Henry Jordan.', 'document_ids': ['doc_0', 'doc_5']}]\n",
            "[{'start': 223, 'end': 368, 'text': 'fixed rate mortgage range rate cuts will ensure the society continues to cement its position as one of the most competitive lenders in the market', 'document_ids': ['doc_0', 'doc_5']}]\n",
            "[{'start': 379, 'end': 464, 'text': 'intention to maintain their support for homeowners, potential homeowners and brokers.', 'document_ids': ['doc_0', 'doc_5']}]\n",
            "\n",
            "----------------------------------------------------------------------------------------------------\n",
            "\n",
            "User: Yes please. Give me the latest on Nationwides mortgage rates and the date of these changes.\n",
            "Chatbot:\n",
            "Retrieving information...\n",
            "Nationwide has recently (as of Thursday 9 November 2023) reduced rates across its fixed mortgage range. The reductions vary from 0.38 percentage points to 0.25% and include rates for switchers, additional borrowing, and existing customers moving home. \n",
            "\n",
            "The society's new rates start from 4.64% for a five-year fixed rate product, 4.94% for a three-year fixed rate product, and 4.99% for a two-year fixed rate product. With these changes, Nationwide has become the first major high street lender to offer a two-year fixed-rate mortgage at under 5% with a £999 fee.\n",
            "\n",
            "For more details on Nationwide's mortgage rates, please refer to their website for the latest information.\n",
            "\n",
            "CITATIONS:\n",
            "[{'start': 24, 'end': 56, 'text': '(as of Thursday 9 November 2023)', 'document_ids': ['doc_1']}]\n",
            "[{'start': 82, 'end': 103, 'text': 'fixed mortgage range.', 'document_ids': ['doc_0', 'doc_1', 'doc_2']}]\n",
            "[{'start': 129, 'end': 151, 'text': '0.38 percentage points', 'document_ids': ['doc_1']}]\n",
            "[{'start': 155, 'end': 160, 'text': '0.25%', 'document_ids': ['doc_0', 'doc_2']}]\n",
            "[{'start': 183, 'end': 192, 'text': 'switchers', 'document_ids': ['doc_0']}]\n",
            "[{'start': 194, 'end': 214, 'text': 'additional borrowing', 'document_ids': ['doc_2']}]\n",
            "[{'start': 220, 'end': 251, 'text': 'existing customers moving home.', 'document_ids': ['doc_2']}]\n",
            "[{'start': 289, 'end': 294, 'text': '4.64%', 'document_ids': ['doc_0', 'doc_1']}]\n",
            "[{'start': 301, 'end': 329, 'text': 'five-year fixed rate product', 'document_ids': ['doc_0', 'doc_1']}]\n",
            "[{'start': 331, 'end': 336, 'text': '4.94%', 'document_ids': ['doc_0']}]\n",
            "[{'start': 343, 'end': 372, 'text': 'three-year fixed rate product', 'document_ids': ['doc_0']}]\n",
            "[{'start': 378, 'end': 383, 'text': '4.99%', 'document_ids': ['doc_0']}]\n",
            "[{'start': 390, 'end': 418, 'text': 'two-year fixed rate product.', 'document_ids': ['doc_0']}]\n",
            "[{'start': 465, 'end': 564, 'text': 'first major high street lender to offer a two-year fixed-rate mortgage at under 5% with a £999 fee.', 'document_ids': ['doc_1']}]\n",
            "\n",
            "----------------------------------------------------------------------------------------------------\n",
            "\n",
            "User: quit\n",
            "Ending chat.\n"
          ]
        }
      ]
    }
  ]
}